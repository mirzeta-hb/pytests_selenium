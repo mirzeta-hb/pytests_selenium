{
 "cells": [
  {
   "cell_type": "code",
   "execution_count": 22,
   "id": "594cd8f0",
   "metadata": {},
   "outputs": [
    {
     "name": "stdout",
     "output_type": "stream",
     "text": [
      "                          Item Price         Color\n",
      "0  Faded Short Sleeve T-shirts   $17   color-beige\n",
      "1                       Blouse   $27    color-pink\n",
      "2                Printed Dress   $26  color-orange\n",
      "3                Printed Dress   $51   color-black\n",
      "4         Printed Summer Dress   $29    color-blue\n",
      "5         Printed Summer Dress   $31   color-green\n",
      "6        Printed Chiffon Dress   $16  color-yellow\n"
     ]
    }
   ],
   "source": [
    "import pandas as pd\n",
    "\n",
    "df = open('women.csv', 'w') #create file\n",
    "df = pd.DataFrame({\n",
    "    \"Item\": [\"Faded Short Sleeve T-shirts\", \"Blouse\", \"Printed Dress\", \"Printed Dress\", \"Printed Summer Dress\", \"Printed Summer Dress\", \"Printed Chiffon Dress\"],\n",
    "    \"Price\": [\"$17\",\"$27\",\"$26\",\"$51\", \"$29\", \"$31\", \"$16\"],\n",
    "    \"Color\": [\"color-beige\", \"color-pink\", \"color-orange\", \"color-black\", \"color-blue\", \"color-green\", \"color-yellow\"]\n",
    "})  #add data as a DataFrame using pandas\n",
    "df.to_csv(\"women.csv\") #sava data to file\n",
    "print(df)\n"
   ]
  },
  {
   "cell_type": "code",
   "execution_count": 30,
   "id": "0ff35a67",
   "metadata": {},
   "outputs": [
    {
     "name": "stdout",
     "output_type": "stream",
     "text": [
      "                                   Item Price         Color\n",
      "Unnamed: 0                                                 \n",
      "0           Faded Short Sleeve T-shirts   $17   color-beige\n",
      "1                                Blouse   $27    color-pink\n",
      "2                         Printed Dress   $26  color-orange\n",
      "3                         Printed Dress   $51   color-black\n",
      "4                  Printed Summer Dress   $29    color-blue\n",
      "5                  Printed Summer Dress   $29   color-green\n",
      "6                 Printed Chiffon Dress   $16  color-yellow\n"
     ]
    }
   ],
   "source": [
    "import pandas as pd\n",
    "\n",
    "df = pd.read_csv('women.csv', header = 0) #read file content and set first row as a header\n",
    "df = df.set_index(df.columns[0], inplace = False) #set first column to be and index\n",
    "df.loc[5, \"Price\"] = \"$29\"\n",
    "df.to_csv(\"women.csv\")\n",
    "print(df)"
   ]
  },
  {
   "cell_type": "code",
   "execution_count": 31,
   "id": "b139de53",
   "metadata": {},
   "outputs": [
    {
     "name": "stdout",
     "output_type": "stream",
     "text": [
      "//a[contains(text(),'Printed Summer Dress')]/following::div/span[contains(text(), 29.99)]\n"
     ]
    }
   ],
   "source": [
    "def get_xpath_variable_value():\n",
    "    # Simulate getting the variable value after function execution\n",
    "    price = 29.99  # Replace this with the actual value you want to use\n",
    "    return price\n",
    "\n",
    "# Call the function to get the variable value\n",
    "price = get_xpath_variable_value()\n",
    "\n",
    "# Construct the XPath using the variable's value\n",
    "xpath_template = \"//a[contains(text(),'Printed Summer Dress')]/following::div/span[contains(text(), {})]\"\n",
    "newPrice = xpath_template.format(price)\n",
    "\n",
    "print(newPrice)"
   ]
  },
  {
   "cell_type": "code",
   "execution_count": null,
   "id": "12622b49",
   "metadata": {},
   "outputs": [],
   "source": []
  }
 ],
 "metadata": {
  "kernelspec": {
   "display_name": "Python 3 (ipykernel)",
   "language": "python",
   "name": "python3"
  },
  "language_info": {
   "codemirror_mode": {
    "name": "ipython",
    "version": 3
   },
   "file_extension": ".py",
   "mimetype": "text/x-python",
   "name": "python",
   "nbconvert_exporter": "python",
   "pygments_lexer": "ipython3",
   "version": "3.11.3"
  }
 },
 "nbformat": 4,
 "nbformat_minor": 5
}
